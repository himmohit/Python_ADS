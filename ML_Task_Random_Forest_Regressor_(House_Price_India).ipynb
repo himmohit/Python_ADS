{
  "nbformat": 4,
  "nbformat_minor": 0,
  "metadata": {
    "colab": {
      "name": "ML_Task_Random_Forest_Regressor_(House_Price_India).ipynb",
      "provenance": []
    },
    "kernelspec": {
      "name": "python3",
      "display_name": "Python 3"
    },
    "language_info": {
      "name": "python"
    }
  },
  "cells": [
    {
      "cell_type": "code",
      "metadata": {
        "id": "RtdkRlJ4BYpd"
      },
      "source": [
        "# Importing important Libraries:-\n",
        "\n",
        "import pandas as pd\n",
        "import numpy as np"
      ],
      "execution_count": 13,
      "outputs": []
    },
    {
      "cell_type": "code",
      "metadata": {
        "colab": {
          "base_uri": "https://localhost:8080/",
          "height": 202
        },
        "id": "_TxPB7uJCm7T",
        "outputId": "a2d14aa4-7eda-4209-cceb-0e3d546e7b8a"
      },
      "source": [
        "# Loading dataset.\n",
        "\n",
        "df = pd.read_csv('HousePriceIndia.csv')\n",
        "df.head()"
      ],
      "execution_count": 14,
      "outputs": [
        {
          "output_type": "execute_result",
          "data": {
            "text/html": [
              "<div>\n",
              "<style scoped>\n",
              "    .dataframe tbody tr th:only-of-type {\n",
              "        vertical-align: middle;\n",
              "    }\n",
              "\n",
              "    .dataframe tbody tr th {\n",
              "        vertical-align: top;\n",
              "    }\n",
              "\n",
              "    .dataframe thead th {\n",
              "        text-align: right;\n",
              "    }\n",
              "</style>\n",
              "<table border=\"1\" class=\"dataframe\">\n",
              "  <thead>\n",
              "    <tr style=\"text-align: right;\">\n",
              "      <th></th>\n",
              "      <th>POSTED_BY</th>\n",
              "      <th>UNDER_CONSTRUCTION</th>\n",
              "      <th>RERA</th>\n",
              "      <th>BHK_NO.</th>\n",
              "      <th>BHK_OR_RK</th>\n",
              "      <th>SQUARE_FT</th>\n",
              "      <th>READY_TO_MOVE</th>\n",
              "      <th>RESALE</th>\n",
              "      <th>ADDRESS</th>\n",
              "      <th>LONGITUDE</th>\n",
              "      <th>LATITUDE</th>\n",
              "      <th>TARGET(PRICE_IN_LACS)</th>\n",
              "    </tr>\n",
              "  </thead>\n",
              "  <tbody>\n",
              "    <tr>\n",
              "      <th>0</th>\n",
              "      <td>Owner</td>\n",
              "      <td>0</td>\n",
              "      <td>0</td>\n",
              "      <td>2</td>\n",
              "      <td>BHK</td>\n",
              "      <td>1300.236407</td>\n",
              "      <td>1</td>\n",
              "      <td>1</td>\n",
              "      <td>Ksfc Layout,Bangalore</td>\n",
              "      <td>12.969910</td>\n",
              "      <td>77.597960</td>\n",
              "      <td>55.0</td>\n",
              "    </tr>\n",
              "    <tr>\n",
              "      <th>1</th>\n",
              "      <td>Dealer</td>\n",
              "      <td>0</td>\n",
              "      <td>0</td>\n",
              "      <td>2</td>\n",
              "      <td>BHK</td>\n",
              "      <td>1275.000000</td>\n",
              "      <td>1</td>\n",
              "      <td>1</td>\n",
              "      <td>Vishweshwara Nagar,Mysore</td>\n",
              "      <td>12.274538</td>\n",
              "      <td>76.644605</td>\n",
              "      <td>51.0</td>\n",
              "    </tr>\n",
              "    <tr>\n",
              "      <th>2</th>\n",
              "      <td>Owner</td>\n",
              "      <td>0</td>\n",
              "      <td>0</td>\n",
              "      <td>2</td>\n",
              "      <td>BHK</td>\n",
              "      <td>933.159722</td>\n",
              "      <td>1</td>\n",
              "      <td>1</td>\n",
              "      <td>Jigani,Bangalore</td>\n",
              "      <td>12.778033</td>\n",
              "      <td>77.632191</td>\n",
              "      <td>43.0</td>\n",
              "    </tr>\n",
              "    <tr>\n",
              "      <th>3</th>\n",
              "      <td>Owner</td>\n",
              "      <td>0</td>\n",
              "      <td>1</td>\n",
              "      <td>2</td>\n",
              "      <td>BHK</td>\n",
              "      <td>929.921143</td>\n",
              "      <td>1</td>\n",
              "      <td>1</td>\n",
              "      <td>Sector-1 Vaishali,Ghaziabad</td>\n",
              "      <td>28.642300</td>\n",
              "      <td>77.344500</td>\n",
              "      <td>62.5</td>\n",
              "    </tr>\n",
              "    <tr>\n",
              "      <th>4</th>\n",
              "      <td>Dealer</td>\n",
              "      <td>1</td>\n",
              "      <td>0</td>\n",
              "      <td>2</td>\n",
              "      <td>BHK</td>\n",
              "      <td>999.009247</td>\n",
              "      <td>0</td>\n",
              "      <td>1</td>\n",
              "      <td>New Town,Kolkata</td>\n",
              "      <td>22.592200</td>\n",
              "      <td>88.484911</td>\n",
              "      <td>60.5</td>\n",
              "    </tr>\n",
              "  </tbody>\n",
              "</table>\n",
              "</div>"
            ],
            "text/plain": [
              "  POSTED_BY  UNDER_CONSTRUCTION  ...   LATITUDE  TARGET(PRICE_IN_LACS)\n",
              "0     Owner                   0  ...  77.597960                   55.0\n",
              "1    Dealer                   0  ...  76.644605                   51.0\n",
              "2     Owner                   0  ...  77.632191                   43.0\n",
              "3     Owner                   0  ...  77.344500                   62.5\n",
              "4    Dealer                   1  ...  88.484911                   60.5\n",
              "\n",
              "[5 rows x 12 columns]"
            ]
          },
          "metadata": {},
          "execution_count": 14
        }
      ]
    },
    {
      "cell_type": "code",
      "metadata": {
        "colab": {
          "base_uri": "https://localhost:8080/"
        },
        "id": "ikpPpmFpCsiH",
        "outputId": "21d159fe-e05e-44fc-840d-f6931464ba89"
      },
      "source": [
        "# checking the null value\n",
        "\n",
        "df.isnull().sum()"
      ],
      "execution_count": 15,
      "outputs": [
        {
          "output_type": "execute_result",
          "data": {
            "text/plain": [
              "POSTED_BY                0\n",
              "UNDER_CONSTRUCTION       0\n",
              "RERA                     0\n",
              "BHK_NO.                  0\n",
              "BHK_OR_RK                0\n",
              "SQUARE_FT                0\n",
              "READY_TO_MOVE            0\n",
              "RESALE                   0\n",
              "ADDRESS                  0\n",
              "LONGITUDE                0\n",
              "LATITUDE                 1\n",
              "TARGET(PRICE_IN_LACS)    1\n",
              "dtype: int64"
            ]
          },
          "metadata": {},
          "execution_count": 15
        }
      ]
    },
    {
      "cell_type": "code",
      "metadata": {
        "id": "B9C-EhN-GkjT"
      },
      "source": [
        "# Filling null value in dataset using mean method.\n",
        "\n",
        "df.fillna(df.mean(), inplace=True)"
      ],
      "execution_count": 20,
      "outputs": []
    },
    {
      "cell_type": "code",
      "metadata": {
        "colab": {
          "base_uri": "https://localhost:8080/",
          "height": 324
        },
        "id": "nRjH14XVC7Bw",
        "outputId": "5837c66d-3a41-47ae-95d8-39be026c6a99"
      },
      "source": [
        "# checking correlation between features column and output\n",
        "\n",
        "df.corr()"
      ],
      "execution_count": 21,
      "outputs": [
        {
          "output_type": "execute_result",
          "data": {
            "text/html": [
              "<div>\n",
              "<style scoped>\n",
              "    .dataframe tbody tr th:only-of-type {\n",
              "        vertical-align: middle;\n",
              "    }\n",
              "\n",
              "    .dataframe tbody tr th {\n",
              "        vertical-align: top;\n",
              "    }\n",
              "\n",
              "    .dataframe thead th {\n",
              "        text-align: right;\n",
              "    }\n",
              "</style>\n",
              "<table border=\"1\" class=\"dataframe\">\n",
              "  <thead>\n",
              "    <tr style=\"text-align: right;\">\n",
              "      <th></th>\n",
              "      <th>UNDER_CONSTRUCTION</th>\n",
              "      <th>RERA</th>\n",
              "      <th>BHK_NO.</th>\n",
              "      <th>SQUARE_FT</th>\n",
              "      <th>READY_TO_MOVE</th>\n",
              "      <th>RESALE</th>\n",
              "      <th>LONGITUDE</th>\n",
              "      <th>LATITUDE</th>\n",
              "      <th>TARGET(PRICE_IN_LACS)</th>\n",
              "    </tr>\n",
              "  </thead>\n",
              "  <tbody>\n",
              "    <tr>\n",
              "      <th>UNDER_CONSTRUCTION</th>\n",
              "      <td>1.000000</td>\n",
              "      <td>0.372556</td>\n",
              "      <td>-0.043790</td>\n",
              "      <td>-0.005800</td>\n",
              "      <td>-1.000000</td>\n",
              "      <td>-0.350638</td>\n",
              "      <td>0.002753</td>\n",
              "      <td>-0.004044</td>\n",
              "      <td>0.062442</td>\n",
              "    </tr>\n",
              "    <tr>\n",
              "      <th>RERA</th>\n",
              "      <td>0.372556</td>\n",
              "      <td>1.000000</td>\n",
              "      <td>0.020292</td>\n",
              "      <td>-0.008383</td>\n",
              "      <td>-0.372556</td>\n",
              "      <td>-0.278686</td>\n",
              "      <td>0.103891</td>\n",
              "      <td>-0.073551</td>\n",
              "      <td>0.080991</td>\n",
              "    </tr>\n",
              "    <tr>\n",
              "      <th>BHK_NO.</th>\n",
              "      <td>-0.043790</td>\n",
              "      <td>0.020292</td>\n",
              "      <td>1.000000</td>\n",
              "      <td>0.009352</td>\n",
              "      <td>0.043790</td>\n",
              "      <td>0.019408</td>\n",
              "      <td>0.078437</td>\n",
              "      <td>0.046203</td>\n",
              "      <td>0.103318</td>\n",
              "    </tr>\n",
              "    <tr>\n",
              "      <th>SQUARE_FT</th>\n",
              "      <td>-0.005800</td>\n",
              "      <td>-0.008383</td>\n",
              "      <td>0.009352</td>\n",
              "      <td>1.000000</td>\n",
              "      <td>0.005800</td>\n",
              "      <td>0.002822</td>\n",
              "      <td>-0.016912</td>\n",
              "      <td>0.001147</td>\n",
              "      <td>0.502324</td>\n",
              "    </tr>\n",
              "    <tr>\n",
              "      <th>READY_TO_MOVE</th>\n",
              "      <td>-1.000000</td>\n",
              "      <td>-0.372556</td>\n",
              "      <td>0.043790</td>\n",
              "      <td>0.005800</td>\n",
              "      <td>1.000000</td>\n",
              "      <td>0.350638</td>\n",
              "      <td>-0.002753</td>\n",
              "      <td>0.004044</td>\n",
              "      <td>-0.062442</td>\n",
              "    </tr>\n",
              "    <tr>\n",
              "      <th>RESALE</th>\n",
              "      <td>-0.350638</td>\n",
              "      <td>-0.278686</td>\n",
              "      <td>0.019408</td>\n",
              "      <td>0.002822</td>\n",
              "      <td>0.350638</td>\n",
              "      <td>1.000000</td>\n",
              "      <td>0.036727</td>\n",
              "      <td>0.027676</td>\n",
              "      <td>-0.212616</td>\n",
              "    </tr>\n",
              "    <tr>\n",
              "      <th>LONGITUDE</th>\n",
              "      <td>0.002753</td>\n",
              "      <td>0.103891</td>\n",
              "      <td>0.078437</td>\n",
              "      <td>-0.016912</td>\n",
              "      <td>-0.002753</td>\n",
              "      <td>0.036727</td>\n",
              "      <td>1.000000</td>\n",
              "      <td>-0.149350</td>\n",
              "      <td>-0.042071</td>\n",
              "    </tr>\n",
              "    <tr>\n",
              "      <th>LATITUDE</th>\n",
              "      <td>-0.004044</td>\n",
              "      <td>-0.073551</td>\n",
              "      <td>0.046203</td>\n",
              "      <td>0.001147</td>\n",
              "      <td>0.004044</td>\n",
              "      <td>0.027676</td>\n",
              "      <td>-0.149350</td>\n",
              "      <td>1.000000</td>\n",
              "      <td>-0.018437</td>\n",
              "    </tr>\n",
              "    <tr>\n",
              "      <th>TARGET(PRICE_IN_LACS)</th>\n",
              "      <td>0.062442</td>\n",
              "      <td>0.080991</td>\n",
              "      <td>0.103318</td>\n",
              "      <td>0.502324</td>\n",
              "      <td>-0.062442</td>\n",
              "      <td>-0.212616</td>\n",
              "      <td>-0.042071</td>\n",
              "      <td>-0.018437</td>\n",
              "      <td>1.000000</td>\n",
              "    </tr>\n",
              "  </tbody>\n",
              "</table>\n",
              "</div>"
            ],
            "text/plain": [
              "                       UNDER_CONSTRUCTION  ...  TARGET(PRICE_IN_LACS)\n",
              "UNDER_CONSTRUCTION               1.000000  ...               0.062442\n",
              "RERA                             0.372556  ...               0.080991\n",
              "BHK_NO.                         -0.043790  ...               0.103318\n",
              "SQUARE_FT                       -0.005800  ...               0.502324\n",
              "READY_TO_MOVE                   -1.000000  ...              -0.062442\n",
              "RESALE                          -0.350638  ...              -0.212616\n",
              "LONGITUDE                        0.002753  ...              -0.042071\n",
              "LATITUDE                        -0.004044  ...              -0.018437\n",
              "TARGET(PRICE_IN_LACS)            0.062442  ...               1.000000\n",
              "\n",
              "[9 rows x 9 columns]"
            ]
          },
          "metadata": {},
          "execution_count": 21
        }
      ]
    },
    {
      "cell_type": "code",
      "metadata": {
        "colab": {
          "base_uri": "https://localhost:8080/",
          "height": 414
        },
        "id": "qf0jXpWzC_OD",
        "outputId": "8c223fde-43fd-494f-ba25-cc5a32b4c834"
      },
      "source": [
        "# Creating a new dataset and importing important columns on it then separating it with X (features) and printing it.\n",
        "\n",
        "Important_features = df[['UNDER_CONSTRUCTION','RERA','SQUARE_FT']]\n",
        "\n",
        "X = Important_features\n",
        "X"
      ],
      "execution_count": 22,
      "outputs": [
        {
          "output_type": "execute_result",
          "data": {
            "text/html": [
              "<div>\n",
              "<style scoped>\n",
              "    .dataframe tbody tr th:only-of-type {\n",
              "        vertical-align: middle;\n",
              "    }\n",
              "\n",
              "    .dataframe tbody tr th {\n",
              "        vertical-align: top;\n",
              "    }\n",
              "\n",
              "    .dataframe thead th {\n",
              "        text-align: right;\n",
              "    }\n",
              "</style>\n",
              "<table border=\"1\" class=\"dataframe\">\n",
              "  <thead>\n",
              "    <tr style=\"text-align: right;\">\n",
              "      <th></th>\n",
              "      <th>UNDER_CONSTRUCTION</th>\n",
              "      <th>RERA</th>\n",
              "      <th>SQUARE_FT</th>\n",
              "    </tr>\n",
              "  </thead>\n",
              "  <tbody>\n",
              "    <tr>\n",
              "      <th>0</th>\n",
              "      <td>0</td>\n",
              "      <td>0</td>\n",
              "      <td>1300.236407</td>\n",
              "    </tr>\n",
              "    <tr>\n",
              "      <th>1</th>\n",
              "      <td>0</td>\n",
              "      <td>0</td>\n",
              "      <td>1275.000000</td>\n",
              "    </tr>\n",
              "    <tr>\n",
              "      <th>2</th>\n",
              "      <td>0</td>\n",
              "      <td>0</td>\n",
              "      <td>933.159722</td>\n",
              "    </tr>\n",
              "    <tr>\n",
              "      <th>3</th>\n",
              "      <td>0</td>\n",
              "      <td>1</td>\n",
              "      <td>929.921143</td>\n",
              "    </tr>\n",
              "    <tr>\n",
              "      <th>4</th>\n",
              "      <td>1</td>\n",
              "      <td>0</td>\n",
              "      <td>999.009247</td>\n",
              "    </tr>\n",
              "    <tr>\n",
              "      <th>...</th>\n",
              "      <td>...</td>\n",
              "      <td>...</td>\n",
              "      <td>...</td>\n",
              "    </tr>\n",
              "    <tr>\n",
              "      <th>12458</th>\n",
              "      <td>0</td>\n",
              "      <td>1</td>\n",
              "      <td>1345.154387</td>\n",
              "    </tr>\n",
              "    <tr>\n",
              "      <th>12459</th>\n",
              "      <td>1</td>\n",
              "      <td>0</td>\n",
              "      <td>425.019031</td>\n",
              "    </tr>\n",
              "    <tr>\n",
              "      <th>12460</th>\n",
              "      <td>0</td>\n",
              "      <td>0</td>\n",
              "      <td>8723.404255</td>\n",
              "    </tr>\n",
              "    <tr>\n",
              "      <th>12461</th>\n",
              "      <td>0</td>\n",
              "      <td>0</td>\n",
              "      <td>560.014934</td>\n",
              "    </tr>\n",
              "    <tr>\n",
              "      <th>12462</th>\n",
              "      <td>0</td>\n",
              "      <td>0</td>\n",
              "      <td>1000.000000</td>\n",
              "    </tr>\n",
              "  </tbody>\n",
              "</table>\n",
              "<p>12463 rows × 3 columns</p>\n",
              "</div>"
            ],
            "text/plain": [
              "       UNDER_CONSTRUCTION  RERA    SQUARE_FT\n",
              "0                       0     0  1300.236407\n",
              "1                       0     0  1275.000000\n",
              "2                       0     0   933.159722\n",
              "3                       0     1   929.921143\n",
              "4                       1     0   999.009247\n",
              "...                   ...   ...          ...\n",
              "12458                   0     1  1345.154387\n",
              "12459                   1     0   425.019031\n",
              "12460                   0     0  8723.404255\n",
              "12461                   0     0   560.014934\n",
              "12462                   0     0  1000.000000\n",
              "\n",
              "[12463 rows x 3 columns]"
            ]
          },
          "metadata": {},
          "execution_count": 22
        }
      ]
    },
    {
      "cell_type": "code",
      "metadata": {
        "colab": {
          "base_uri": "https://localhost:8080/"
        },
        "id": "EvLv6drlGUvv",
        "outputId": "99a0c0a5-9fe9-4326-8f2e-c37828d793c2"
      },
      "source": [
        "# Separating y (label) and printing it.\n",
        "\n",
        "y = df['TARGET(PRICE_IN_LACS)']\n",
        "y"
      ],
      "execution_count": 23,
      "outputs": [
        {
          "output_type": "execute_result",
          "data": {
            "text/plain": [
              "0         55.000000\n",
              "1         51.000000\n",
              "2         43.000000\n",
              "3         62.500000\n",
              "4         60.500000\n",
              "            ...    \n",
              "12458     88.000000\n",
              "12459     67.000000\n",
              "12460     41.000000\n",
              "12461     60.000000\n",
              "12462    147.767281\n",
              "Name: TARGET(PRICE_IN_LACS), Length: 12463, dtype: float64"
            ]
          },
          "metadata": {},
          "execution_count": 23
        }
      ]
    },
    {
      "cell_type": "code",
      "metadata": {
        "id": "hRreCQSUGgnv"
      },
      "source": [
        "# Importing 'train_test_split' from sklearn library using sklearn and spliting the data in training and testing part.\n",
        "\n",
        "from sklearn.model_selection import train_test_split\n",
        "X_train, X_test, y_train, y_test = train_test_split(X, y, test_size=0.2, random_state=0)"
      ],
      "execution_count": 24,
      "outputs": []
    },
    {
      "cell_type": "code",
      "metadata": {
        "id": "2e0PXvWcHEan"
      },
      "source": [
        "# Importing 'RandomForestRegressor'  from 'Ensemble' module using sklearn.\n",
        "\n",
        "from sklearn.ensemble import RandomForestRegressor"
      ],
      "execution_count": 26,
      "outputs": []
    },
    {
      "cell_type": "code",
      "metadata": {
        "id": "-08IqvwJHXEJ"
      },
      "source": [
        "# Creating a class with the name of Model and then passing how many tree we want to use in this algorithm.\n",
        "\n",
        "model = RandomForestRegressor(n_estimators=50)"
      ],
      "execution_count": 46,
      "outputs": []
    },
    {
      "cell_type": "code",
      "metadata": {
        "colab": {
          "base_uri": "https://localhost:8080/"
        },
        "id": "0njEPbB7Hgj7",
        "outputId": "e8e69064-e8f8-4a1b-e63c-4d24cc135207"
      },
      "source": [
        "# Fitting our model on training dataset.\n",
        "\n",
        "model.fit(X_train, y_train)"
      ],
      "execution_count": 47,
      "outputs": [
        {
          "output_type": "execute_result",
          "data": {
            "text/plain": [
              "RandomForestRegressor(bootstrap=True, ccp_alpha=0.0, criterion='mse',\n",
              "                      max_depth=None, max_features='auto', max_leaf_nodes=None,\n",
              "                      max_samples=None, min_impurity_decrease=0.0,\n",
              "                      min_impurity_split=None, min_samples_leaf=1,\n",
              "                      min_samples_split=2, min_weight_fraction_leaf=0.0,\n",
              "                      n_estimators=50, n_jobs=None, oob_score=False,\n",
              "                      random_state=None, verbose=0, warm_start=False)"
            ]
          },
          "metadata": {},
          "execution_count": 47
        }
      ]
    },
    {
      "cell_type": "code",
      "metadata": {
        "colab": {
          "base_uri": "https://localhost:8080/"
        },
        "id": "Uwa2HjbEHkPW",
        "outputId": "95c8db93-4dfc-44c0-d8f8-eb5ed398428a"
      },
      "source": [
        "# checking the accuracy level of Model.\n",
        "\n",
        "model.score(X_test, y_test)"
      ],
      "execution_count": 48,
      "outputs": [
        {
          "output_type": "execute_result",
          "data": {
            "text/plain": [
              "0.8472767383055042"
            ]
          },
          "metadata": {},
          "execution_count": 48
        }
      ]
    }
  ]
}