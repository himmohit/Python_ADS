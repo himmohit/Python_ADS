{
  "nbformat": 4,
  "nbformat_minor": 0,
  "metadata": {
    "colab": {
      "name": "Task_Python_Loops.ipynb",
      "provenance": [],
      "collapsed_sections": []
    },
    "kernelspec": {
      "name": "python3",
      "display_name": "Python 3"
    },
    "language_info": {
      "name": "python"
    }
  },
  "cells": [
    {
      "cell_type": "markdown",
      "metadata": {
        "id": "ECbfsDXYwnXk"
      },
      "source": [
        "***Task 10.1**\n",
        "\n",
        "**= what is the uasge of continue wiith an example**"
      ]
    },
    {
      "cell_type": "code",
      "metadata": {
        "colab": {
          "base_uri": "https://localhost:8080/"
        },
        "id": "XzTHmIL5zdXM",
        "outputId": "51d2a9d6-0993-4cbf-c1c2-a7134ae1ac60"
      },
      "source": [
        "# 'continue' keyword. It avoid the statement printing where continue use otherwise it start again or we can say it start loop again.\n",
        "\n",
        "for i in range(1, 15):\n",
        "   \n",
        "    if i == 3:\n",
        "        continue\n",
        "    else:\n",
        "        print(i)"
      ],
      "execution_count": 15,
      "outputs": [
        {
          "output_type": "stream",
          "text": [
            "1\n",
            "2\n",
            "4\n",
            "5\n",
            "6\n",
            "7\n",
            "8\n",
            "9\n",
            "10\n",
            "11\n",
            "12\n",
            "13\n",
            "14\n"
          ],
          "name": "stdout"
        }
      ]
    },
    {
      "cell_type": "markdown",
      "metadata": {
        "id": "3H8XiFPMzge8"
      },
      "source": [
        "***Task 10.2**\n",
        "\n",
        "**What is pass keyword, with example.**"
      ]
    },
    {
      "cell_type": "code",
      "metadata": {
        "id": "wll3OzYczs08"
      },
      "source": [
        "# When we use 'pass' keyword. So, instead of throwing error it'll pass the blank window as output.\n",
        "\n",
        "a = 20\n",
        "b = 15\n",
        "\n",
        "if(b > a):\n",
        "  pass"
      ],
      "execution_count": 10,
      "outputs": []
    },
    {
      "cell_type": "markdown",
      "metadata": {
        "id": "Io8qdC16zubv"
      },
      "source": [
        "***Task10**\n",
        "\n",
        "**--> using while loop print numbers from 10 to 1**"
      ]
    },
    {
      "cell_type": "code",
      "metadata": {
        "colab": {
          "base_uri": "https://localhost:8080/"
        },
        "id": "trxFqVk6z8La",
        "outputId": "25d77a3a-38d5-49c2-8e7a-23a7eb402c6b"
      },
      "source": [
        "numbers = 11\n",
        "while(numbers>1):\n",
        "  numbers = numbers - 1\n",
        "  print(numbers)"
      ],
      "execution_count": 6,
      "outputs": [
        {
          "output_type": "stream",
          "text": [
            "10\n",
            "9\n",
            "8\n",
            "7\n",
            "6\n",
            "5\n",
            "4\n",
            "3\n",
            "2\n",
            "1\n"
          ],
          "name": "stdout"
        }
      ]
    },
    {
      "cell_type": "markdown",
      "metadata": {
        "id": "M7Gk1Kc-z-as"
      },
      "source": [
        "**--> try using for loop to loop over tuples,sets and dictionaries**"
      ]
    },
    {
      "cell_type": "code",
      "metadata": {
        "colab": {
          "base_uri": "https://localhost:8080/"
        },
        "id": "wQXc-O-20Gf3",
        "outputId": "ebef66b0-0180-468b-eb13-97788c1ff984"
      },
      "source": [
        "# For loop over 'Tuples':-\n",
        "\n",
        "tup = ('mohit','verma',True,32)\n",
        "\n",
        "for item in tup:\n",
        "    print(item)"
      ],
      "execution_count": 17,
      "outputs": [
        {
          "output_type": "stream",
          "text": [
            "mohit\n",
            "verma\n",
            "True\n",
            "32\n"
          ],
          "name": "stdout"
        }
      ]
    },
    {
      "cell_type": "code",
      "metadata": {
        "colab": {
          "base_uri": "https://localhost:8080/"
        },
        "id": "Os72uHRC5maq",
        "outputId": "f52d534f-cfd2-4287-8285-909e2c9b2adc"
      },
      "source": [
        "# For loop over 'Sets':-\n",
        "\n",
        "sets = {'apple','mango','banana','guava'}\n",
        "\n",
        "for items in sets:\n",
        "  print(items)"
      ],
      "execution_count": 18,
      "outputs": [
        {
          "output_type": "stream",
          "text": [
            "banana\n",
            "guava\n",
            "apple\n",
            "mango\n"
          ],
          "name": "stdout"
        }
      ]
    },
    {
      "cell_type": "code",
      "metadata": {
        "colab": {
          "base_uri": "https://localhost:8080/"
        },
        "id": "WJMov4ht6AnM",
        "outputId": "88980e87-4df2-484f-bd28-20be66af62c7"
      },
      "source": [
        "# For loop over 'dictionary':-\n",
        "\n",
        "dict = {'name':'mohit','class':'first','grade':'A'}\n",
        "\n",
        "for items in dict:\n",
        "  print(items)"
      ],
      "execution_count": 20,
      "outputs": [
        {
          "output_type": "stream",
          "text": [
            "name\n",
            "class\n",
            "grade\n"
          ],
          "name": "stdout"
        }
      ]
    }
  ]
}