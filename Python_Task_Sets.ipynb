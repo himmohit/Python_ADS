{
  "nbformat": 4,
  "nbformat_minor": 0,
  "metadata": {
    "colab": {
      "name": "Python_Task_Sets.ipynb",
      "provenance": [],
      "collapsed_sections": []
    },
    "kernelspec": {
      "name": "python3",
      "display_name": "Python 3"
    },
    "language_info": {
      "name": "python"
    }
  },
  "cells": [
    {
      "cell_type": "markdown",
      "metadata": {
        "id": "hEhEFrhFQrWS"
      },
      "source": [
        "***Task7** \n",
        "- **Go through other inbuilt methods like -**\n",
        "**(1)difference() 2) symmetric_difference()*\n",
        "\n"
      ]
    },
    {
      "cell_type": "code",
      "metadata": {
        "colab": {
          "base_uri": "https://localhost:8080/"
        },
        "id": "hmpAmY1KRKVp",
        "outputId": "70333c1a-66a9-4afe-c5b2-652f6f15404b"
      },
      "source": [
        "# difference() function or method  - It'll give the result as a difference value which not present in statement. \n",
        "\n",
        "a = {'priya','nisha','aisha','monika'}\n",
        "b = {'mohit','him','ash','kaj','priya'}\n",
        "l=b.difference(a)\n",
        "print(l)"
      ],
      "execution_count": null,
      "outputs": [
        {
          "output_type": "stream",
          "text": [
            "{'ash', 'mohit', 'him', 'kaj'}\n"
          ],
          "name": "stdout"
        }
      ]
    },
    {
      "cell_type": "code",
      "metadata": {
        "colab": {
          "base_uri": "https://localhost:8080/"
        },
        "id": "E4kJFEhTSuNx",
        "outputId": "554c9b01-d4cf-4bed-ca1b-0ad96f089356"
      },
      "source": [
        "# symmetric_difference() method - It'll returns a set with the symmetric differences of two sets.\n",
        "set1 = {25,30,35,40,45,50}\n",
        "set2 = {65,25,32,66,90,45}\n",
        "\n",
        "set3 = set1.symmetric_difference(set2)\n",
        "print(set3)"
      ],
      "execution_count": null,
      "outputs": [
        {
          "output_type": "stream",
          "text": [
            "{65, 66, 90, 30, 32, 35, 40, 50}\n"
          ],
          "name": "stdout"
        }
      ]
    },
    {
      "cell_type": "code",
      "metadata": {
        "colab": {
          "base_uri": "https://localhost:8080/"
        },
        "id": "KS7S5grQW7zS",
        "outputId": "6e8e2c87-da57-4510-c094-9ecae7501e8d"
      },
      "source": [
        "# isdisjoint() - It represents whether another set contains this set element or not.\n",
        "s = {'a','g','h','i'}\n",
        "g = {'l','d','y','h','m'}\n",
        "\n",
        "r = s.isdisjoint(g)\n",
        "print(r)"
      ],
      "execution_count": null,
      "outputs": [
        {
          "output_type": "stream",
          "text": [
            "False\n"
          ],
          "name": "stdout"
        }
      ]
    },
    {
      "cell_type": "markdown",
      "metadata": {
        "id": "ZWKeDcIQ-iOx"
      },
      "source": [
        "***Task 8**\n",
        "\n",
        "**Make a table of all the In-built data structures and Point out the differences one by one -**\n",
        "\n"
      ]
    },
    {
      "cell_type": "markdown",
      "metadata": {
        "id": "MiFgq_cv_QCg"
      },
      "source": [
        "*** There are four types of In-built data structues in Python -**\n",
        "\n",
        "**1) List Data Structure**"
      ]
    },
    {
      "cell_type": "code",
      "metadata": {
        "colab": {
          "base_uri": "https://localhost:8080/"
        },
        "id": "htxF6fvr_rY_",
        "outputId": "438fd67f-b756-4dcb-8b9f-5d5e48c240bc"
      },
      "source": [
        "# In 'List' there are numbers of data types can be store also which can be change according to sitaution. Also, it start and end from Square Brackets.\n",
        "\n",
        "lst = ['apple', 'banana', 25, True]\n",
        "print(lst)\n",
        "print(type(lst))"
      ],
      "execution_count": 2,
      "outputs": [
        {
          "output_type": "stream",
          "text": [
            "['apple', 'banana', 25, True]\n",
            "<class 'list'>\n"
          ],
          "name": "stdout"
        }
      ]
    },
    {
      "cell_type": "markdown",
      "metadata": {
        "id": "stF0tREbAPTL"
      },
      "source": [
        "**2) Dictionary Data Structure**"
      ]
    },
    {
      "cell_type": "code",
      "metadata": {
        "colab": {
          "base_uri": "https://localhost:8080/"
        },
        "id": "f2t4ugzYAEXb",
        "outputId": "57863ded-1544-43a2-9010-f358a2f4c819"
      },
      "source": [
        "# In 'Dictionary' it always contains elements in 'key', 'value' pair. Also, it start from flower bracket or we can say curve bracket.\n",
        "\n",
        "dict = {'name':'mohit','standard':'Intermediate','Level':'A'}\n",
        "print(dict)\n",
        "print(type(dict))"
      ],
      "execution_count": 3,
      "outputs": [
        {
          "output_type": "stream",
          "text": [
            "{'name': 'mohit', 'standard': 'Intermediate', 'Level': 'A'}\n",
            "<class 'dict'>\n"
          ],
          "name": "stdout"
        }
      ]
    },
    {
      "cell_type": "markdown",
      "metadata": {
        "id": "HGeWxEwwBc8D"
      },
      "source": [
        "**3) Tuple Data Structure**"
      ]
    },
    {
      "cell_type": "code",
      "metadata": {
        "colab": {
          "base_uri": "https://localhost:8080/"
        },
        "id": "pVW0XHJlBozZ",
        "outputId": "193a8b4f-32ff-4868-9427-a8719eb210a3"
      },
      "source": [
        "# In 'Tuple' data structure it can contains element in different data types also the value available in Tuple it cannot be change and it start and end from round bracket.\n",
        "\n",
        "tup = ('app','bans',6.5,False)\n",
        "print(tup)\n",
        "print(type(tup))"
      ],
      "execution_count": 5,
      "outputs": [
        {
          "output_type": "stream",
          "text": [
            "('app', 'bans', 6.5, False)\n",
            "<class 'tuple'>\n"
          ],
          "name": "stdout"
        }
      ]
    },
    {
      "cell_type": "markdown",
      "metadata": {
        "id": "HytMSTpDCb_a"
      },
      "source": [
        "**4) Sets Data Structure**"
      ]
    },
    {
      "cell_type": "code",
      "metadata": {
        "colab": {
          "base_uri": "https://localhost:8080/"
        },
        "id": "MAUsz6SQCKDr",
        "outputId": "bd0d5f2c-66cf-4b11-a992-8d9910c614d7"
      },
      "source": [
        "# In 'Sets' data structure it always start and end from Flower or curve bracket also it contains different data types.\n",
        "\n",
        "sts = {'abc','cdf',9.5,True}\n",
        "print(sts)\n",
        "print(type(sts))"
      ],
      "execution_count": 7,
      "outputs": [
        {
          "output_type": "stream",
          "text": [
            "{'cdf', 'abc', 9.5, True}\n",
            "<class 'set'>\n"
          ],
          "name": "stdout"
        }
      ]
    },
    {
      "cell_type": "code",
      "metadata": {
        "id": "hD9g7yQOC0pq"
      },
      "source": [
        ""
      ],
      "execution_count": null,
      "outputs": []
    }
  ]
}