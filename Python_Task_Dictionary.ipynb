{
  "nbformat": 4,
  "nbformat_minor": 0,
  "metadata": {
    "colab": {
      "name": "Python_Task_Dictionary.ipynb",
      "provenance": [],
      "collapsed_sections": []
    },
    "kernelspec": {
      "name": "python3",
      "display_name": "Python 3"
    },
    "language_info": {
      "name": "python"
    }
  },
  "cells": [
    {
      "cell_type": "markdown",
      "metadata": {
        "id": "hu0v6R1RDPNv"
      },
      "source": [
        "***TASK - 5**\n",
        "\n",
        "**From the dictionary, do the following tasks:-**\n",
        "\n",
        "dictionary = { \n",
        "   \"april_batch\":{ \n",
        "      \"student\":{ \n",
        "         \"name\":\"Mike\",\n",
        "         \"marks\":{ \n",
        "            \"python\":80,\n",
        "            \"maths\":70\n",
        "         }\n",
        "      }\n",
        "   }\n",
        "}\n",
        "\n",
        "**--> Access \"Mike\"**\n",
        "\n",
        "**--> Access 80**\n",
        "\n",
        "**--> Ahange \"Mike\" to \"Your name\"**\n",
        "\n",
        "**--> Add ML = 80 and DL = 80 inside marks**"
      ]
    },
    {
      "cell_type": "code",
      "metadata": {
        "colab": {
          "base_uri": "https://localhost:8080/"
        },
        "id": "wxlw5N3HEaij",
        "outputId": "d767f3a0-e9ce-4b82-fbb8-32f103cd0e35"
      },
      "source": [
        "#  Access 'Mike'\n",
        "\n",
        "dictionary = { \n",
        "   \"april_batch\":{ \n",
        "      \"student\":{ \n",
        "         \"name\":\"Mike\",\n",
        "         \"marks\":{ \n",
        "            \"python\":80,\n",
        "            \"maths\":70\n",
        "         }\n",
        "      }\n",
        "   }\n",
        "}\n",
        "\n",
        "\n",
        "print(dictionary['april_batch']['student']['name'])"
      ],
      "execution_count": 3,
      "outputs": [
        {
          "output_type": "stream",
          "text": [
            "Mike\n"
          ],
          "name": "stdout"
        }
      ]
    },
    {
      "cell_type": "code",
      "metadata": {
        "colab": {
          "base_uri": "https://localhost:8080/"
        },
        "id": "dRaMxqeIFHHA",
        "outputId": "065bf3fa-7b74-4f0f-bcf7-91530fef9a8a"
      },
      "source": [
        "# Access 80\n",
        "print(dictionary['april_batch']['student']['marks']['python'])"
      ],
      "execution_count": 5,
      "outputs": [
        {
          "output_type": "stream",
          "text": [
            "80\n"
          ],
          "name": "stdout"
        }
      ]
    },
    {
      "cell_type": "code",
      "metadata": {
        "colab": {
          "base_uri": "https://localhost:8080/"
        },
        "id": "1qGhGlZ9FfU7",
        "outputId": "d3863d1c-a720-4000-f6bc-b3ff7f2de08c"
      },
      "source": [
        "# Change 'Mike' to Yourname\n",
        "dictionary['april_batch']['student']['name'] = 'Mohit Verma'\n",
        "print(dictionary)"
      ],
      "execution_count": 7,
      "outputs": [
        {
          "output_type": "stream",
          "text": [
            "{'april_batch': {'student': {'name': 'Mohit Verma', 'marks': {'python': 80, 'maths': 70}}}}\n"
          ],
          "name": "stdout"
        }
      ]
    },
    {
      "cell_type": "code",
      "metadata": {
        "colab": {
          "base_uri": "https://localhost:8080/"
        },
        "id": "FzCE45zLF789",
        "outputId": "fe8e1171-8a0f-412b-dbc9-68cce88d261b"
      },
      "source": [
        "# Add ML=80 and DL=80 inside the Marks:-\n",
        "dictionary['april_batch']['student']['marks']['ML'] = 80\n",
        "dictionary['april_batch']['student']['marks']['DL'] = 80\n",
        "print(dictionary)\n"
      ],
      "execution_count": 9,
      "outputs": [
        {
          "output_type": "stream",
          "text": [
            "{'april_batch': {'student': {'name': 'Mohit Verma', 'marks': {'python': 80, 'maths': 70, 'ML': 80, 'DL': 80}}}}\n"
          ],
          "name": "stdout"
        }
      ]
    },
    {
      "cell_type": "code",
      "metadata": {
        "id": "YJFl-TRDGm1G"
      },
      "source": [
        ""
      ],
      "execution_count": null,
      "outputs": []
    }
  ]
}