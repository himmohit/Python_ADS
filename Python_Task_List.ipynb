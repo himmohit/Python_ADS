{
  "nbformat": 4,
  "nbformat_minor": 0,
  "metadata": {
    "colab": {
      "name": "Python Task List.ipynb",
      "provenance": [],
      "collapsed_sections": []
    },
    "kernelspec": {
      "name": "python3",
      "display_name": "Python 3"
    },
    "language_info": {
      "name": "python"
    }
  },
  "cells": [
    {
      "cell_type": "markdown",
      "metadata": {
        "id": "5rhHxFFEEURL"
      },
      "source": [
        "***Task- 3.1**\n",
        "\n",
        "**Go through other inbuilt methods like remove(), clear(), sort(), reverse()**\n"
      ]
    },
    {
      "cell_type": "code",
      "metadata": {
        "colab": {
          "base_uri": "https://localhost:8080/"
        },
        "id": "58__OBegEzlh",
        "outputId": "f79fc001-4057-41e2-a5d8-08edb9d36317"
      },
      "source": [
        "#  remove() - It'll remove the given element from the list\n",
        "\n",
        "list = [\"mohit\",\"verma\",23,True]\n",
        "list.remove(True)\n",
        "print(list)"
      ],
      "execution_count": null,
      "outputs": [
        {
          "output_type": "stream",
          "text": [
            "['mohit', 'verma', 23]\n"
          ],
          "name": "stdout"
        }
      ]
    },
    {
      "cell_type": "code",
      "metadata": {
        "colab": {
          "base_uri": "https://localhost:8080/"
        },
        "id": "Dq6u2R1pFA23",
        "outputId": "785e09a8-b1ca-4932-d466-04459985e26f"
      },
      "source": [
        "#  clear() - It'll empty the list\n",
        "\n",
        "list.clear()\n",
        "print('Result is :',list)"
      ],
      "execution_count": null,
      "outputs": [
        {
          "output_type": "stream",
          "text": [
            "Result is : []\n"
          ],
          "name": "stdout"
        }
      ]
    },
    {
      "cell_type": "code",
      "metadata": {
        "colab": {
          "base_uri": "https://localhost:8080/"
        },
        "id": "DlKZrKdxF9FG",
        "outputId": "9fd237ae-b2a3-4fba-fed5-dfc665d45a39"
      },
      "source": [
        "# sort() - It'll convert the element in ascending order\n",
        "\n",
        "b = [5,85,65,35,45,75]\n",
        "b.sort()\n",
        "print(b)"
      ],
      "execution_count": null,
      "outputs": [
        {
          "output_type": "stream",
          "text": [
            "[5, 35, 45, 65, 75, 85]\n"
          ],
          "name": "stdout"
        }
      ]
    },
    {
      "cell_type": "code",
      "metadata": {
        "colab": {
          "base_uri": "https://localhost:8080/"
        },
        "id": "1yZhD2_LHApS",
        "outputId": "278ae836-e84f-4687-a924-2d0b2d513659"
      },
      "source": [
        "# reverse() - It'll reverse the list\n",
        "p = ['i','h','g','f','e','d','c','b','a']\n",
        "p.reverse()\n",
        "print(p)"
      ],
      "execution_count": null,
      "outputs": [
        {
          "output_type": "stream",
          "text": [
            "['a', 'b', 'c', 'd', 'e', 'f', 'g', 'h', 'i']\n"
          ],
          "name": "stdout"
        }
      ]
    },
    {
      "cell_type": "code",
      "metadata": {
        "colab": {
          "base_uri": "https://localhost:8080/"
        },
        "id": "RSRoAQoPHUY_",
        "outputId": "d719eabc-c9c3-4886-df7b-d20961c1a1ab"
      },
      "source": [
        "# len() - It'll provide the length of elements in list\n",
        "\n",
        "a = ['mohit','student','delhi']\n",
        "print(len(a))"
      ],
      "execution_count": null,
      "outputs": [
        {
          "output_type": "stream",
          "text": [
            "3\n"
          ],
          "name": "stdout"
        }
      ]
    },
    {
      "cell_type": "markdown",
      "metadata": {
        "id": "qAdktdzSJj8I"
      },
      "source": [
        "***Task 3.2**\n",
        "\n",
        "**Create a list of length = 10 and access 5th to 8th data.**"
      ]
    },
    {
      "cell_type": "code",
      "metadata": {
        "colab": {
          "base_uri": "https://localhost:8080/"
        },
        "id": "N5WY9kuUJ7B4",
        "outputId": "6d0a3c42-e629-472d-d75e-cb02e4333e61"
      },
      "source": [
        "k = ['mango','banana','apple','guava','grapes','watermelon','orange','papaya','pineapple','cherry']\n",
        "print(k[4:-2])"
      ],
      "execution_count": null,
      "outputs": [
        {
          "output_type": "stream",
          "text": [
            "['grapes', 'watermelon', 'orange', 'papaya']\n"
          ],
          "name": "stdout"
        }
      ]
    },
    {
      "cell_type": "markdown",
      "metadata": {
        "id": "EL9dXkJjLOQX"
      },
      "source": [
        "***Task 4**\n",
        "\n",
        "**Add item 70 after 60 in the following Python List --> list = [10, 20, [30, 40, [50, 60], 80], 90, 100]**\n",
        " "
      ]
    },
    {
      "cell_type": "code",
      "metadata": {
        "colab": {
          "base_uri": "https://localhost:8080/"
        },
        "id": "msqjHqpGLosP",
        "outputId": "155d67b9-912f-4e86-9ec5-9fc74d73b2ed"
      },
      "source": [
        "list = [10,20,[30,40,[50,60],80],90,100]\n",
        "list[2][2].append(70)\n",
        "print(list)"
      ],
      "execution_count": 9,
      "outputs": [
        {
          "output_type": "stream",
          "text": [
            "[10, 20, [30, 40, [50, 60, 70], 80], 90, 100]\n"
          ],
          "name": "stdout"
        }
      ]
    },
    {
      "cell_type": "markdown",
      "metadata": {
        "id": "5-V4ETUC-oyR"
      },
      "source": [
        "***Add sublist [7,8] after 6 -->  lst = [1,2,[3,4,5,6],9]**"
      ]
    },
    {
      "cell_type": "code",
      "metadata": {
        "colab": {
          "base_uri": "https://localhost:8080/"
        },
        "id": "xBszQ9bn-usM",
        "outputId": "f3e8ecce-150c-4b41-e266-e7c5077b5573"
      },
      "source": [
        "lst = [1,2,[3,4,5,6],9]\n",
        "lst[2].append([7,8])\n",
        "print(lst)"
      ],
      "execution_count": 28,
      "outputs": [
        {
          "output_type": "stream",
          "text": [
            "[1, 2, [3, 4, 5, 6, [7, 8]], 9]\n"
          ],
          "name": "stdout"
        }
      ]
    },
    {
      "cell_type": "code",
      "metadata": {
        "id": "CbtgHDJd_hqG"
      },
      "source": [
        ""
      ],
      "execution_count": null,
      "outputs": []
    }
  ]
}