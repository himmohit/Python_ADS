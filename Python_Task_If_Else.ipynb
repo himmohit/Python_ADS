{
  "nbformat": 4,
  "nbformat_minor": 0,
  "metadata": {
    "colab": {
      "name": "Python_Task_If_Else.ipynb",
      "provenance": [],
      "collapsed_sections": []
    },
    "kernelspec": {
      "name": "python3",
      "display_name": "Python 3"
    },
    "language_info": {
      "name": "python"
    }
  },
  "cells": [
    {
      "cell_type": "markdown",
      "metadata": {
        "id": "1AZK5LZn7T_A"
      },
      "source": [
        "***Task 9**\n",
        "\n",
        "**> Ask 2 numbers from users and store it in num1 and num2**\n",
        "\n",
        "**> Ask user to press 1 for addition,2 for subtraction,3 for multiplication and 4 for division**\n",
        "\n",
        "**> based on number given by user do the math operation**"
      ]
    },
    {
      "cell_type": "code",
      "metadata": {
        "colab": {
          "base_uri": "https://localhost:8080/"
        },
        "id": "9f7ZV0Ly7p_s",
        "outputId": "971c5e6d-cec7-4076-d4cc-fed8a2085533"
      },
      "source": [
        "\n",
        "num1 = int(input(\"Enter First Number: \"))\n",
        "num2 = int(input(\"Enter Second Number: \"))\n",
        "\n",
        "user_input = int(input(\"What you want to Select from 1 to 4? :\"))\n",
        "\n",
        "if(user_input == 1):\n",
        "  num3 = num1 + num2\n",
        "  print(\"Result is: \", num3)\n",
        "\n",
        "elif(user_input == 2):\n",
        "  num3 = num1 - num2\n",
        "  print(\"Result is: \", num3)\n",
        "\n",
        "elif(user_input == 3):\n",
        "  num3 = num1 * num2\n",
        "  print(\"Result is: \", num3)\n",
        "\n",
        "elif(user_input == 4):\n",
        "  num3 = num1 // num2\n",
        "  print(\"Result is: \", num3)\n",
        "\n",
        "\n",
        "else:\n",
        "  print(\"You made a wrong selection!\")\n",
        "\n"
      ],
      "execution_count": 4,
      "outputs": [
        {
          "output_type": "stream",
          "text": [
            "Enter First Number: 5\n",
            "Enter Second Number: 2\n",
            "What you want to Select from 1 to 4? :1\n",
            "Result is:  7\n"
          ],
          "name": "stdout"
        }
      ]
    },
    {
      "cell_type": "code",
      "metadata": {
        "id": "f3aafuDb796o"
      },
      "source": [
        ""
      ],
      "execution_count": null,
      "outputs": []
    }
  ]
}