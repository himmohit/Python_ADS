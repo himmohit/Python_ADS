{
  "nbformat": 4,
  "nbformat_minor": 0,
  "metadata": {
    "colab": {
      "name": "Python_Task_Tuple.ipynb",
      "provenance": [],
      "collapsed_sections": []
    },
    "kernelspec": {
      "name": "python3",
      "display_name": "Python 3"
    },
    "language_info": {
      "name": "python"
    }
  },
  "cells": [
    {
      "cell_type": "markdown",
      "metadata": {
        "id": "zWBbjuoLIc7N"
      },
      "source": [
        "***Task 6**\n",
        "\n",
        "**Add and remove the elements from a tuple. (Refer workaroud to modify the tuples)**\n",
        "\n"
      ]
    },
    {
      "cell_type": "markdown",
      "metadata": {
        "id": "WO4eDMxoLVNO"
      },
      "source": [
        "**--> Adding element in tuple:-**"
      ]
    },
    {
      "cell_type": "code",
      "metadata": {
        "colab": {
          "base_uri": "https://localhost:8080/"
        },
        "id": "xv6_oPQgIsxC",
        "outputId": "e9d0ee5f-c5ae-4454-a824-748f3af1e045"
      },
      "source": [
        "# First we need to convert this tuple with list because we cannot make change in tuple.So here converted into list.\n",
        "tup = ('apple','mango','banana',25,45)\n",
        "lst = list(tup)\n",
        "print(type(lst))"
      ],
      "execution_count": 17,
      "outputs": [
        {
          "output_type": "stream",
          "text": [
            "<class 'list'>\n"
          ],
          "name": "stdout"
        }
      ]
    },
    {
      "cell_type": "code",
      "metadata": {
        "colab": {
          "base_uri": "https://localhost:8080/"
        },
        "id": "jNHOqDQ6I5bA",
        "outputId": "c1e46eb5-d0e0-4727-82b7-4506f1f211d4"
      },
      "source": [
        "# Now we can make changes in list and add items in that.\n",
        "lst[2] = \"orange\"\n",
        "print(lst)"
      ],
      "execution_count": 20,
      "outputs": [
        {
          "output_type": "stream",
          "text": [
            "['apple', 'mango', 'orange', 25, 45]\n"
          ],
          "name": "stdout"
        }
      ]
    },
    {
      "cell_type": "code",
      "metadata": {
        "colab": {
          "base_uri": "https://localhost:8080/"
        },
        "id": "3eupAfaSKmnt",
        "outputId": "50bb749a-7f11-43cf-fa72-8152621f2bbd"
      },
      "source": [
        "# So, if it get change in list now we have to change it on tuple again so it can show the changed tuple with added item.\n",
        "tup = tuple(lst)\n",
        "print(\"So, here's the result below: \")\n",
        "print(tup)"
      ],
      "execution_count": 22,
      "outputs": [
        {
          "output_type": "stream",
          "text": [
            "So, here's the result below: \n",
            "('apple', 'mango', 'orange', 25, 45)\n"
          ],
          "name": "stdout"
        }
      ]
    },
    {
      "cell_type": "markdown",
      "metadata": {
        "id": "MaSiC3yJLgcG"
      },
      "source": [
        "**--> Remove elemnt from tuple:-**"
      ]
    },
    {
      "cell_type": "code",
      "metadata": {
        "colab": {
          "base_uri": "https://localhost:8080/"
        },
        "id": "E7yVPXgkLrml",
        "outputId": "c24036ea-af87-4e28-9bce-b3e84e0ad598"
      },
      "source": [
        "# First we have to declare tuple and then we need to do same thing convert tuple in list so we can make changes here.\n",
        "tuple_example = ('rohit','ashish','deb','mohit','priya','nisha')\n",
        "list_convert = list(tuple_example)\n",
        "print(type(list_convert))"
      ],
      "execution_count": 23,
      "outputs": [
        {
          "output_type": "stream",
          "text": [
            "<class 'list'>\n"
          ],
          "name": "stdout"
        }
      ]
    },
    {
      "cell_type": "code",
      "metadata": {
        "colab": {
          "base_uri": "https://localhost:8080/"
        },
        "id": "ykeOtCcIMhmn",
        "outputId": "573ab6a0-bb47-4bea-d469-afdb601b8318"
      },
      "source": [
        "# Now we can make changes in this converted list like remove elemnts from here.\n",
        "list_convert.remove('rohit')\n",
        "print(list_convert)"
      ],
      "execution_count": 24,
      "outputs": [
        {
          "output_type": "stream",
          "text": [
            "['ashish', 'deb', 'mohit', 'priya', 'nisha']\n"
          ],
          "name": "stdout"
        }
      ]
    },
    {
      "cell_type": "code",
      "metadata": {
        "colab": {
          "base_uri": "https://localhost:8080/"
        },
        "id": "QQSp3X2xM7mJ",
        "outputId": "5fe3490a-3931-41d1-ffe1-6f8e2eb5e79e"
      },
      "source": [
        "# As you can see the element removed from this list Now we can convert this list in tuple. So, we can get output of remove tuple.\n",
        "tuple_example = tuple(list_convert)\n",
        "print(tuple_example)"
      ],
      "execution_count": 25,
      "outputs": [
        {
          "output_type": "stream",
          "text": [
            "('ashish', 'deb', 'mohit', 'priya', 'nisha')\n"
          ],
          "name": "stdout"
        }
      ]
    },
    {
      "cell_type": "code",
      "metadata": {
        "id": "bTs5plCXOZQN"
      },
      "source": [
        ""
      ],
      "execution_count": null,
      "outputs": []
    }
  ]
}