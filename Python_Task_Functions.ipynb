{
  "nbformat": 4,
  "nbformat_minor": 0,
  "metadata": {
    "colab": {
      "name": "Python_Task_Functions.ipynb",
      "provenance": [],
      "collapsed_sections": []
    },
    "kernelspec": {
      "name": "python3",
      "display_name": "Python 3"
    },
    "language_info": {
      "name": "python"
    }
  },
  "cells": [
    {
      "cell_type": "markdown",
      "metadata": {
        "id": "eovyFgECExPy"
      },
      "source": [
        "*** Task 11.1**\n",
        "\n",
        "**Explain Return keyword with example**"
      ]
    },
    {
      "cell_type": "markdown",
      "metadata": {
        "id": "NJCh-YtFFIcE"
      },
      "source": [
        "***'Return' statement always used to return value or we can perform operation at the end of the result***"
      ]
    },
    {
      "cell_type": "code",
      "metadata": {
        "colab": {
          "base_uri": "https://localhost:8080/"
        },
        "id": "nbDOZfS5EhYg",
        "outputId": "046faf0f-7db5-4dad-d0f1-bd40f1d6db1c"
      },
      "source": [
        "# use of return value here -\n",
        "\n",
        "\n",
        "def sum(x,y,z):\n",
        "  return(x+y+z)\n",
        "\n",
        "sum(3,5,4)\n"
      ],
      "execution_count": 1,
      "outputs": [
        {
          "output_type": "execute_result",
          "data": {
            "text/plain": [
              "12"
            ]
          },
          "metadata": {
            "tags": []
          },
          "execution_count": 1
        }
      ]
    },
    {
      "cell_type": "markdown",
      "metadata": {
        "id": "RKwY8uTJGT-5"
      },
      "source": [
        "***Task 11.2**\n",
        "\n",
        "**Ask 2 numbers from users and store it in num1 and num2**\n",
        "\n",
        "**Ask user to press 1 for addition, 2 for subtraction, 3 for multiplication and 4 for division**\n",
        "\n",
        "**Create 4 seperate functions for each operation (i.e. addition,subtraction,multiplication and division)**\n",
        "\n",
        "**Based on number given by user,call that perticular function and print the output**"
      ]
    },
    {
      "cell_type": "code",
      "metadata": {
        "colab": {
          "base_uri": "https://localhost:8080/"
        },
        "id": "215gTMBHGEi4",
        "outputId": "c98a823d-40d7-4ee1-8f48-f33430b7cdaa"
      },
      "source": [
        "\n",
        "num1 = int(input(\"Enter First Number: \"))\n",
        "num2 = int(input(\"Enter Second Number: \"))\n",
        "\n",
        "user_input = int(input(\"What you want to Select from 1 to 4? :\"))\n",
        "\n",
        "if(user_input == 1):\n",
        "  num3 = num1 + num2\n",
        "  print(\"Result for 1st selected function (Addition) is: \", num3)\n",
        "\n",
        "elif(user_input == 2):\n",
        "  num3 = num1 - num2\n",
        "  print(\"Result for 2nd selected function (Subtraction) is: \", num3)\n",
        "\n",
        "elif(user_input == 3):\n",
        "  num3 = num1 * num2\n",
        "  print(\"Result for 3rd selected function (Multiplication) is: \", num3)\n",
        "\n",
        "elif(user_input == 4):\n",
        "  num3 = num1 // num2\n",
        "  print(\"Result for 4th selected function (Division) is: \", num3)\n",
        "\n",
        "\n",
        "else:\n",
        "  print(\"You made a wrong selection!\")\n"
      ],
      "execution_count": 3,
      "outputs": [
        {
          "output_type": "stream",
          "text": [
            "Enter First Number: 4\n",
            "Enter Second Number: 6\n",
            "What you want to Select from 1 to 4? :3\n",
            "Result for 3rd selected function (Multiplication) is:  24\n"
          ],
          "name": "stdout"
        }
      ]
    },
    {
      "cell_type": "code",
      "metadata": {
        "id": "3KJhyHuSHcok"
      },
      "source": [
        ""
      ],
      "execution_count": null,
      "outputs": []
    }
  ]
}