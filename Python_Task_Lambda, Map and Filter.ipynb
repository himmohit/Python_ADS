{
  "nbformat": 4,
  "nbformat_minor": 0,
  "metadata": {
    "colab": {
      "name": "Lambda, Map and Filter.ipynb",
      "provenance": [],
      "collapsed_sections": []
    },
    "kernelspec": {
      "name": "python3",
      "display_name": "Python 3"
    },
    "language_info": {
      "name": "python"
    }
  },
  "cells": [
    {
      "cell_type": "markdown",
      "metadata": {
        "id": "hw831nkHN8S8"
      },
      "source": [
        "\n",
        "***Task 10: Go through:-**\n",
        "\n",
        "**- reduce()**\n",
        "\n",
        "**- zip()**\n",
        "\n",
        "**- enumerate()**"
      ]
    },
    {
      "cell_type": "code",
      "metadata": {
        "colab": {
          "base_uri": "https://localhost:8080/"
        },
        "id": "kgSR1W03Lsi_",
        "outputId": "53a28041-b61a-4bc1-a3ef-3be4578c50ec"
      },
      "source": [
        "from functools import reduce\n",
        "\n",
        "# reduce() function - It basically use for reduce a sequence of elements in one value with the help of mathematical operation you want. It returns a single value.\n",
        "\n",
        "\n",
        "\n",
        "lst = [20,30,40,50]\n",
        "\n",
        "result = reduce(lambda n,y: n+y, (lst))\n",
        "print(result)"
      ],
      "execution_count": 6,
      "outputs": [
        {
          "output_type": "stream",
          "text": [
            "140\n"
          ],
          "name": "stdout"
        }
      ]
    },
    {
      "cell_type": "code",
      "metadata": {
        "colab": {
          "base_uri": "https://localhost:8080/"
        },
        "id": "CIaL1uxZdIHb",
        "outputId": "96879721-c3da-434d-9450-10d8435f307c"
      },
      "source": [
        "# zip() function - It takes parameter from different available (list,tuple or set) and merge them into a single list. As you can see the example below:- \n",
        "\n",
        "name = ['mohit','ansh','kapil','robert']\n",
        "standard = ['first','fourth','second','fifth']\n",
        "pay_scale = [50000,45000,25000,30000]\n",
        "\n",
        "x = zip(name,standard,pay_scale)\n",
        "print(list(x))"
      ],
      "execution_count": 17,
      "outputs": [
        {
          "output_type": "stream",
          "text": [
            "[('mohit', 'first', 50000), ('ansh', 'fourth', 45000), ('kapil', 'second', 25000), ('robert', 'fifth', 30000)]\n"
          ],
          "name": "stdout"
        }
      ]
    },
    {
      "cell_type": "code",
      "metadata": {
        "colab": {
          "base_uri": "https://localhost:8080/"
        },
        "id": "JakmANEVknXL",
        "outputId": "3aa4ef6f-a426-493d-a4f9-1da19279ed4c"
      },
      "source": [
        "# numerate() function - It adds a counter to parameter and returns it in a form of enumerate object. This enumerate object can then be used directly in for loops or be converted into a list of tuples using list() method. \n",
        "\n",
        "data = [\"name\",\"religion\",\"country\"]\n",
        "additional_data = \"mohit\"\n",
        " \n",
        "# here we have create enumerate objects\n",
        "a = enumerate(data)\n",
        "b = enumerate(additional_data)\n",
        " \n",
        "print (\"Return type:\",type(a))\n",
        "print (list(enumerate(data)))\n",
        " \n",
        "# and here we have start index to 3 from 0\n",
        "print (list(enumerate(additional_data,2)))\n",
        "\n"
      ],
      "execution_count": 36,
      "outputs": [
        {
          "output_type": "stream",
          "text": [
            "Return type: <class 'enumerate'>\n",
            "[(0, 'name'), (1, 'religion'), (2, 'country')]\n",
            "[(2, 'm'), (3, 'o'), (4, 'h'), (5, 'i'), (6, 't')]\n"
          ],
          "name": "stdout"
        }
      ]
    },
    {
      "cell_type": "code",
      "metadata": {
        "id": "KnqPpQT-mSFs"
      },
      "source": [
        ""
      ],
      "execution_count": null,
      "outputs": []
    }
  ]
}