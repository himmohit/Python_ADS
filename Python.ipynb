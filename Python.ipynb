{
  "nbformat": 4,
  "nbformat_minor": 0,
  "metadata": {
    "colab": {
      "name": "Python.ipynb",
      "provenance": [],
      "collapsed_sections": []
    },
    "kernelspec": {
      "name": "python3",
      "display_name": "Python 3"
    },
    "language_info": {
      "name": "python"
    }
  },
  "cells": [
    {
      "cell_type": "markdown",
      "metadata": {
        "id": "qXnnirn_47DG"
      },
      "source": [
        "**Task 1. Go through some of  the other inbuilt functions.**"
      ]
    },
    {
      "cell_type": "code",
      "metadata": {
        "colab": {
          "base_uri": "https://localhost:8080/"
        },
        "id": "5M9V2EouB8l-",
        "outputId": "936cba40-c692-46a4-bada-6260a1ffa047"
      },
      "source": [
        "# 'find' function - \"it'll check at what place given value is present\"\n",
        "x = \"india is a populated country\"\n",
        "print(x.find('populated'))"
      ],
      "execution_count": 58,
      "outputs": [
        {
          "output_type": "stream",
          "text": [
            "11\n"
          ],
          "name": "stdout"
        }
      ]
    },
    {
      "cell_type": "code",
      "metadata": {
        "colab": {
          "base_uri": "https://localhost:8080/"
        },
        "id": "VawxuhZ-EktY",
        "outputId": "269176b0-26b4-4f45-899c-45c1ffa60179"
      },
      "source": [
        "# 'upper' function - \"it'll convert all the alphabet into Uppercase.\"\n",
        "print(x.upper())"
      ],
      "execution_count": 59,
      "outputs": [
        {
          "output_type": "stream",
          "text": [
            "INDIA IS A POPULATED COUNTRY\n"
          ],
          "name": "stdout"
        }
      ]
    },
    {
      "cell_type": "code",
      "metadata": {
        "colab": {
          "base_uri": "https://localhost:8080/"
        },
        "id": "iBQK6YpPLl71",
        "outputId": "3a3c5b3e-4109-43f3-f73d-8e72e08a62cd"
      },
      "source": [
        "# 'islower function - \"it'll check if available statement is in lower format or not\"\n",
        "print(x.islower())"
      ],
      "execution_count": 61,
      "outputs": [
        {
          "output_type": "stream",
          "text": [
            "True\n"
          ],
          "name": "stdout"
        }
      ]
    },
    {
      "cell_type": "code",
      "metadata": {
        "colab": {
          "base_uri": "https://localhost:8080/"
        },
        "id": "NVN7He25L3cU",
        "outputId": "571f9eb0-82f0-46a9-e2dc-a49520d18190"
      },
      "source": [
        "# 'replace' function - \"it'll replace to existing statement from given value\"\n",
        "print(x.replace('india','america'))"
      ],
      "execution_count": 63,
      "outputs": [
        {
          "output_type": "stream",
          "text": [
            "america is a populated country\n"
          ],
          "name": "stdout"
        }
      ]
    },
    {
      "cell_type": "markdown",
      "metadata": {
        "id": "spKwoZt6MZjW"
      },
      "source": [
        "**Task 2. Check if 'to' is present in given string \"welcome to python\".**"
      ]
    },
    {
      "cell_type": "code",
      "metadata": {
        "colab": {
          "base_uri": "https://localhost:8080/"
        },
        "id": "Jnky5sQ1Nfjq",
        "outputId": "ace5e0cd-b53e-46af-a468-fd00eb7118dc"
      },
      "source": [
        "str = \"welcome to python\"\n",
        "print(str.find('to'))"
      ],
      "execution_count": 64,
      "outputs": [
        {
          "output_type": "stream",
          "text": [
            "8\n"
          ],
          "name": "stdout"
        }
      ]
    }
  ]
}