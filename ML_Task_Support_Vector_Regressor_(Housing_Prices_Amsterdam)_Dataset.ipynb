{
  "nbformat": 4,
  "nbformat_minor": 0,
  "metadata": {
    "colab": {
      "name": "ML_Task_Support_Vector_Regressor_(Housing_Prices-Amsterdam)_Dataset.ipynb",
      "provenance": []
    },
    "kernelspec": {
      "name": "python3",
      "display_name": "Python 3"
    },
    "language_info": {
      "name": "python"
    }
  },
  "cells": [
    {
      "cell_type": "code",
      "metadata": {
        "id": "xutbR8Pnmj-G"
      },
      "source": [
        "# Importing imporant libraries\n",
        "\n",
        "import numpy as np\n",
        "import pandas as pd\n",
        "import matplotlib.pyplot as plt\n",
        "import seaborn as sns"
      ],
      "execution_count": 1,
      "outputs": []
    },
    {
      "cell_type": "code",
      "metadata": {
        "colab": {
          "base_uri": "https://localhost:8080/",
          "height": 202
        },
        "id": "bsndxpCjmuRJ",
        "outputId": "132262e2-59df-4ea8-daee-d20b73c86330"
      },
      "source": [
        "# Loading dataset and printing first 5 rows\n",
        "\n",
        "df = pd.read_csv('HousingPrices-Amsterdam.csv')\n",
        "df.head()"
      ],
      "execution_count": 2,
      "outputs": [
        {
          "output_type": "execute_result",
          "data": {
            "text/html": [
              "<div>\n",
              "<style scoped>\n",
              "    .dataframe tbody tr th:only-of-type {\n",
              "        vertical-align: middle;\n",
              "    }\n",
              "\n",
              "    .dataframe tbody tr th {\n",
              "        vertical-align: top;\n",
              "    }\n",
              "\n",
              "    .dataframe thead th {\n",
              "        text-align: right;\n",
              "    }\n",
              "</style>\n",
              "<table border=\"1\" class=\"dataframe\">\n",
              "  <thead>\n",
              "    <tr style=\"text-align: right;\">\n",
              "      <th></th>\n",
              "      <th>Unnamed: 0</th>\n",
              "      <th>Address</th>\n",
              "      <th>Zip</th>\n",
              "      <th>Price</th>\n",
              "      <th>Area</th>\n",
              "      <th>Room</th>\n",
              "      <th>Lon</th>\n",
              "      <th>Lat</th>\n",
              "    </tr>\n",
              "  </thead>\n",
              "  <tbody>\n",
              "    <tr>\n",
              "      <th>0</th>\n",
              "      <td>1</td>\n",
              "      <td>Blasiusstraat 8 2, Amsterdam</td>\n",
              "      <td>1091 CR</td>\n",
              "      <td>685000.0</td>\n",
              "      <td>64</td>\n",
              "      <td>3</td>\n",
              "      <td>4.907736</td>\n",
              "      <td>52.356157</td>\n",
              "    </tr>\n",
              "    <tr>\n",
              "      <th>1</th>\n",
              "      <td>2</td>\n",
              "      <td>Kromme Leimuidenstraat 13 H, Amsterdam</td>\n",
              "      <td>1059 EL</td>\n",
              "      <td>475000.0</td>\n",
              "      <td>60</td>\n",
              "      <td>3</td>\n",
              "      <td>4.850476</td>\n",
              "      <td>52.348586</td>\n",
              "    </tr>\n",
              "    <tr>\n",
              "      <th>2</th>\n",
              "      <td>3</td>\n",
              "      <td>Zaaiersweg 11 A, Amsterdam</td>\n",
              "      <td>1097 SM</td>\n",
              "      <td>850000.0</td>\n",
              "      <td>109</td>\n",
              "      <td>4</td>\n",
              "      <td>4.944774</td>\n",
              "      <td>52.343782</td>\n",
              "    </tr>\n",
              "    <tr>\n",
              "      <th>3</th>\n",
              "      <td>4</td>\n",
              "      <td>Tenerifestraat 40, Amsterdam</td>\n",
              "      <td>1060 TH</td>\n",
              "      <td>580000.0</td>\n",
              "      <td>128</td>\n",
              "      <td>6</td>\n",
              "      <td>4.789928</td>\n",
              "      <td>52.343712</td>\n",
              "    </tr>\n",
              "    <tr>\n",
              "      <th>4</th>\n",
              "      <td>5</td>\n",
              "      <td>Winterjanpad 21, Amsterdam</td>\n",
              "      <td>1036 KN</td>\n",
              "      <td>720000.0</td>\n",
              "      <td>138</td>\n",
              "      <td>5</td>\n",
              "      <td>4.902503</td>\n",
              "      <td>52.410538</td>\n",
              "    </tr>\n",
              "  </tbody>\n",
              "</table>\n",
              "</div>"
            ],
            "text/plain": [
              "   Unnamed: 0                                 Address  ...       Lon        Lat\n",
              "0           1            Blasiusstraat 8 2, Amsterdam  ...  4.907736  52.356157\n",
              "1           2  Kromme Leimuidenstraat 13 H, Amsterdam  ...  4.850476  52.348586\n",
              "2           3              Zaaiersweg 11 A, Amsterdam  ...  4.944774  52.343782\n",
              "3           4            Tenerifestraat 40, Amsterdam  ...  4.789928  52.343712\n",
              "4           5              Winterjanpad 21, Amsterdam  ...  4.902503  52.410538\n",
              "\n",
              "[5 rows x 8 columns]"
            ]
          },
          "metadata": {},
          "execution_count": 2
        }
      ]
    },
    {
      "cell_type": "code",
      "metadata": {
        "id": "yT-7f-HLpdfF"
      },
      "source": [
        "# Dropping unusual columns.\n",
        "\n",
        "df.drop(['Unnamed: 0','Address','Zip'], axis='columns', inplace=True)"
      ],
      "execution_count": 3,
      "outputs": []
    },
    {
      "cell_type": "code",
      "metadata": {
        "colab": {
          "base_uri": "https://localhost:8080/"
        },
        "id": "3FwkEq0jn5Z3",
        "outputId": "eeff465f-7995-40ad-a262-9f357d85e50b"
      },
      "source": [
        "# Checking the rows and columns.\n",
        "\n",
        "df.shape"
      ],
      "execution_count": 4,
      "outputs": [
        {
          "output_type": "execute_result",
          "data": {
            "text/plain": [
              "(924, 5)"
            ]
          },
          "metadata": {},
          "execution_count": 4
        }
      ]
    },
    {
      "cell_type": "code",
      "metadata": {
        "colab": {
          "base_uri": "https://localhost:8080/"
        },
        "id": "aWNfo5iSn_Jl",
        "outputId": "e09f79e3-b713-4af7-eb95-b9baa1c5f4f6"
      },
      "source": [
        "# Checking information about dataset.\n",
        "\n",
        "df.info()"
      ],
      "execution_count": 5,
      "outputs": [
        {
          "output_type": "stream",
          "name": "stdout",
          "text": [
            "<class 'pandas.core.frame.DataFrame'>\n",
            "RangeIndex: 924 entries, 0 to 923\n",
            "Data columns (total 5 columns):\n",
            " #   Column  Non-Null Count  Dtype  \n",
            "---  ------  --------------  -----  \n",
            " 0   Price   920 non-null    float64\n",
            " 1   Area    924 non-null    int64  \n",
            " 2   Room    924 non-null    int64  \n",
            " 3   Lon     924 non-null    float64\n",
            " 4   Lat     924 non-null    float64\n",
            "dtypes: float64(3), int64(2)\n",
            "memory usage: 36.2 KB\n"
          ]
        }
      ]
    },
    {
      "cell_type": "code",
      "metadata": {
        "colab": {
          "base_uri": "https://localhost:8080/"
        },
        "id": "8tPtMCz9m0Io",
        "outputId": "efa97c98-fb2b-4ced-87c7-bb81d862219b"
      },
      "source": [
        "# Checking null value in dataset.\n",
        "\n",
        "df.isnull().sum()"
      ],
      "execution_count": 6,
      "outputs": [
        {
          "output_type": "execute_result",
          "data": {
            "text/plain": [
              "Price    4\n",
              "Area     0\n",
              "Room     0\n",
              "Lon      0\n",
              "Lat      0\n",
              "dtype: int64"
            ]
          },
          "metadata": {},
          "execution_count": 6
        }
      ]
    },
    {
      "cell_type": "code",
      "metadata": {
        "id": "b6WdMOKgo2gP"
      },
      "source": [
        "# Filling 'Price' Column as there's Null value available.\n",
        "\n",
        "df.Price.fillna(df.Price.mean(), inplace=True)"
      ],
      "execution_count": 7,
      "outputs": []
    },
    {
      "cell_type": "code",
      "metadata": {
        "colab": {
          "base_uri": "https://localhost:8080/",
          "height": 286
        },
        "id": "GOHWCH7hnj4Z",
        "outputId": "28af01f2-0cde-4cc0-dddd-131398bcc20d"
      },
      "source": [
        "# Checking the Correalation between available column in dataset using heatmap (seaborn).\n",
        "\n",
        "corr =df.corr()\n",
        "sns.heatmap(corr)"
      ],
      "execution_count": 8,
      "outputs": [
        {
          "output_type": "execute_result",
          "data": {
            "text/plain": [
              "<matplotlib.axes._subplots.AxesSubplot at 0x7fa5ebd45b90>"
            ]
          },
          "metadata": {},
          "execution_count": 8
        },
        {
          "output_type": "display_data",
          "data": {
            "image/png": "[encoded data removed]",
            "text/plain": [
              "<Figure size 432x288 with 2 Axes>"
            ]
          },
          "metadata": {
            "needs_background": "light"
          }
        }
      ]
    },
    {
      "cell_type": "code",
      "metadata": {
        "colab": {
          "base_uri": "https://localhost:8080/",
          "height": 414
        },
        "id": "_ET1Gy1BpYZl",
        "outputId": "ceea0c00-5b2c-445f-8b71-e79440e539ac"
      },
      "source": [
        "# Separating features (X) and printing it.\n",
        "\n",
        "X = df.iloc[:,1:]\n",
        "X"
      ],
      "execution_count": 9,
      "outputs": [
        {
          "output_type": "execute_result",
          "data": {
            "text/html": [
              "<div>\n",
              "<style scoped>\n",
              "    .dataframe tbody tr th:only-of-type {\n",
              "        vertical-align: middle;\n",
              "    }\n",
              "\n",
              "    .dataframe tbody tr th {\n",
              "        vertical-align: top;\n",
              "    }\n",
              "\n",
              "    .dataframe thead th {\n",
              "        text-align: right;\n",
              "    }\n",
              "</style>\n",
              "<table border=\"1\" class=\"dataframe\">\n",
              "  <thead>\n",
              "    <tr style=\"text-align: right;\">\n",
              "      <th></th>\n",
              "      <th>Area</th>\n",
              "      <th>Room</th>\n",
              "      <th>Lon</th>\n",
              "      <th>Lat</th>\n",
              "    </tr>\n",
              "  </thead>\n",
              "  <tbody>\n",
              "    <tr>\n",
              "      <th>0</th>\n",
              "      <td>64</td>\n",
              "      <td>3</td>\n",
              "      <td>4.907736</td>\n",
              "      <td>52.356157</td>\n",
              "    </tr>\n",
              "    <tr>\n",
              "      <th>1</th>\n",
              "      <td>60</td>\n",
              "      <td>3</td>\n",
              "      <td>4.850476</td>\n",
              "      <td>52.348586</td>\n",
              "    </tr>\n",
              "    <tr>\n",
              "      <th>2</th>\n",
              "      <td>109</td>\n",
              "      <td>4</td>\n",
              "      <td>4.944774</td>\n",
              "      <td>52.343782</td>\n",
              "    </tr>\n",
              "    <tr>\n",
              "      <th>3</th>\n",
              "      <td>128</td>\n",
              "      <td>6</td>\n",
              "      <td>4.789928</td>\n",
              "      <td>52.343712</td>\n",
              "    </tr>\n",
              "    <tr>\n",
              "      <th>4</th>\n",
              "      <td>138</td>\n",
              "      <td>5</td>\n",
              "      <td>4.902503</td>\n",
              "      <td>52.410538</td>\n",
              "    </tr>\n",
              "    <tr>\n",
              "      <th>...</th>\n",
              "      <td>...</td>\n",
              "      <td>...</td>\n",
              "      <td>...</td>\n",
              "      <td>...</td>\n",
              "    </tr>\n",
              "    <tr>\n",
              "      <th>919</th>\n",
              "      <td>117</td>\n",
              "      <td>1</td>\n",
              "      <td>4.927757</td>\n",
              "      <td>52.354173</td>\n",
              "    </tr>\n",
              "    <tr>\n",
              "      <th>920</th>\n",
              "      <td>72</td>\n",
              "      <td>3</td>\n",
              "      <td>4.890612</td>\n",
              "      <td>52.414587</td>\n",
              "    </tr>\n",
              "    <tr>\n",
              "      <th>921</th>\n",
              "      <td>51</td>\n",
              "      <td>3</td>\n",
              "      <td>4.856935</td>\n",
              "      <td>52.363256</td>\n",
              "    </tr>\n",
              "    <tr>\n",
              "      <th>922</th>\n",
              "      <td>113</td>\n",
              "      <td>4</td>\n",
              "      <td>4.965731</td>\n",
              "      <td>52.375268</td>\n",
              "    </tr>\n",
              "    <tr>\n",
              "      <th>923</th>\n",
              "      <td>79</td>\n",
              "      <td>4</td>\n",
              "      <td>4.810678</td>\n",
              "      <td>52.355493</td>\n",
              "    </tr>\n",
              "  </tbody>\n",
              "</table>\n",
              "<p>924 rows × 4 columns</p>\n",
              "</div>"
            ],
            "text/plain": [
              "     Area  Room       Lon        Lat\n",
              "0      64     3  4.907736  52.356157\n",
              "1      60     3  4.850476  52.348586\n",
              "2     109     4  4.944774  52.343782\n",
              "3     128     6  4.789928  52.343712\n",
              "4     138     5  4.902503  52.410538\n",
              "..    ...   ...       ...        ...\n",
              "919   117     1  4.927757  52.354173\n",
              "920    72     3  4.890612  52.414587\n",
              "921    51     3  4.856935  52.363256\n",
              "922   113     4  4.965731  52.375268\n",
              "923    79     4  4.810678  52.355493\n",
              "\n",
              "[924 rows x 4 columns]"
            ]
          },
          "metadata": {},
          "execution_count": 9
        }
      ]
    },
    {
      "cell_type": "code",
      "metadata": {
        "colab": {
          "base_uri": "https://localhost:8080/"
        },
        "id": "ndJX-wqqqLli",
        "outputId": "f9417cff-b763-417d-c282-2a3f9fb44a2e"
      },
      "source": [
        "# Separating label (y) and printing it\n",
        "\n",
        "y = df['Price']\n",
        "y"
      ],
      "execution_count": 10,
      "outputs": [
        {
          "output_type": "execute_result",
          "data": {
            "text/plain": [
              "0      685000.0\n",
              "1      475000.0\n",
              "2      850000.0\n",
              "3      580000.0\n",
              "4      720000.0\n",
              "         ...   \n",
              "919    750000.0\n",
              "920    350000.0\n",
              "921    350000.0\n",
              "922    599000.0\n",
              "923    300000.0\n",
              "Name: Price, Length: 924, dtype: float64"
            ]
          },
          "metadata": {},
          "execution_count": 10
        }
      ]
    },
    {
      "cell_type": "code",
      "metadata": {
        "id": "q29ldFspqX8t"
      },
      "source": [
        "# Importing 'train_test_split' from sklearn and spliting data in training and testing part.\n",
        "\n",
        "from sklearn.model_selection import train_test_split\n",
        "X_train, X_test, y_train, y_test = train_test_split(X, y, test_size=0.2, random_state=0)"
      ],
      "execution_count": 11,
      "outputs": []
    },
    {
      "cell_type": "code",
      "metadata": {
        "id": "UNbJhSIgqpze"
      },
      "source": [
        "# Importing support vector machine and using Regressor from there.\n",
        "\n",
        "from sklearn.svm import SVR"
      ],
      "execution_count": 12,
      "outputs": []
    },
    {
      "cell_type": "code",
      "metadata": {
        "id": "7k92zIP7qveE"
      },
      "source": [
        "# Creating class (Model) using support vector regressor.\n",
        "\n",
        "support_vector_regressor = SVR(kernel='linear',C=32000)"
      ],
      "execution_count": 13,
      "outputs": []
    },
    {
      "cell_type": "code",
      "metadata": {
        "colab": {
          "base_uri": "https://localhost:8080/"
        },
        "id": "NrSVrXJtq2NH",
        "outputId": "3614970a-36f3-42c1-8684-55f5fcd6f97c"
      },
      "source": [
        "# Fitting Model with training data.\n",
        "\n",
        "support_vector_regressor.fit(X_train, y_train)"
      ],
      "execution_count": 14,
      "outputs": [
        {
          "output_type": "execute_result",
          "data": {
            "text/plain": [
              "SVR(C=32000, cache_size=200, coef0=0.0, degree=3, epsilon=0.1, gamma='scale',\n",
              "    kernel='linear', max_iter=-1, shrinking=True, tol=0.001, verbose=False)"
            ]
          },
          "metadata": {},
          "execution_count": 14
        }
      ]
    },
    {
      "cell_type": "code",
      "metadata": {
        "colab": {
          "base_uri": "https://localhost:8080/"
        },
        "id": "H6kZO2Peq7CV",
        "outputId": "27211399-f24d-41f8-f28b-cc425fd265dd"
      },
      "source": [
        "# Checking the accuracy score on test  data.\n",
        "\n",
        "support_vector_regressor.score(X_test, y_test)"
      ],
      "execution_count": 15,
      "outputs": [
        {
          "output_type": "execute_result",
          "data": {
            "text/plain": [
              "0.7560554415280045"
            ]
          },
          "metadata": {},
          "execution_count": 15
        }
      ]
    },
    {
      "cell_type": "code",
      "metadata": {
        "id": "VIFCugELrIG8"
      },
      "source": [
        ""
      ],
      "execution_count": 15,
      "outputs": []
    }
  ]
}